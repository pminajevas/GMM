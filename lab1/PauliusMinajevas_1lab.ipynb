{
  "nbformat": 4,
  "nbformat_minor": 0,
  "metadata": {
    "colab": {
      "provenance": [],
      "gpuType": "T4"
    },
    "kernelspec": {
      "name": "python3",
      "display_name": "Python 3"
    },
    "language_info": {
      "name": "python"
    },
    "accelerator": "GPU"
  },
  "cells": [
    {
      "cell_type": "markdown",
      "source": [
        "# Paulius Minajevas, 2110599, Inception V3 [\"Candle\", \"Jellyfish\", \"Pizza\"]"
      ],
      "metadata": {
        "id": "qoguL8QOzhCZ"
      }
    },
    {
      "cell_type": "code",
      "source": [
        "pip install openimages"
      ],
      "metadata": {
        "id": "3FUCLnF3zf8Y"
      },
      "execution_count": null,
      "outputs": []
    },
    {
      "cell_type": "code",
      "source": [
        "import torch\n",
        "from torchvision.models import Inception_V3_Weights"
      ],
      "metadata": {
        "id": "RtWdmyxy7gN8"
      },
      "execution_count": null,
      "outputs": []
    },
    {
      "cell_type": "markdown",
      "source": [
        "For checking possible categories of the model"
      ],
      "metadata": {
        "id": "8MyZmlq_TcWE"
      }
    },
    {
      "cell_type": "code",
      "source": [
        "Inception_V3_Weights.DEFAULT.meta[\"categories\"]"
      ],
      "metadata": {
        "id": "MYgyTwCS56kV"
      },
      "execution_count": null,
      "outputs": []
    },
    {
      "cell_type": "code",
      "source": [
        "import os\n",
        "from openimages.download import download_dataset"
      ],
      "metadata": {
        "id": "yPv7_X9_7iZf"
      },
      "execution_count": null,
      "outputs": []
    },
    {
      "cell_type": "markdown",
      "source": [
        "Main execution parameters"
      ],
      "metadata": {
        "id": "cHkbT6ciUB6D"
      }
    },
    {
      "cell_type": "code",
      "source": [
        "data_dir = \"./data\"\n",
        "number_for_samples = 500\n",
        "classes = [\"Candle\", \"Jellyfish\", \"Pizza\"]"
      ],
      "metadata": {
        "id": "WTvm6uSA16Vx"
      },
      "execution_count": null,
      "outputs": []
    },
    {
      "cell_type": "markdown",
      "source": [
        "Downloading dataset"
      ],
      "metadata": {
        "id": "9I3GQchOUECA"
      }
    },
    {
      "cell_type": "code",
      "source": [
        "if not os.path.exists(data_dir):\n",
        "  os.makedirs(data_dir)\n",
        "\n",
        "download_dataset(data_dir, classes, limit=number_for_samples)"
      ],
      "metadata": {
        "id": "y_FyBHKg8nZd",
        "colab": {
          "base_uri": "https://localhost:8080/"
        },
        "outputId": "1a7eca1e-1085-4b34-8b2f-55065fe60e7c"
      },
      "execution_count": null,
      "outputs": [
        {
          "output_type": "stream",
          "name": "stderr",
          "text": [
            "100%|██████████| 500/500 [00:09<00:00, 52.66it/s]\n",
            "100%|██████████| 379/379 [00:06<00:00, 55.01it/s]\n",
            "100%|██████████| 409/409 [00:07<00:00, 57.18it/s]\n"
          ]
        },
        {
          "output_type": "execute_result",
          "data": {
            "text/plain": [
              "{'candle': {'images_dir': './data/candle/images'},\n",
              " 'jellyfish': {'images_dir': './data/jellyfish/images'},\n",
              " 'pizza': {'images_dir': './data/pizza/images'}}"
            ]
          },
          "metadata": {},
          "execution_count": 6
        }
      ]
    },
    {
      "cell_type": "markdown",
      "source": [
        "If available set runtime on GPU"
      ],
      "metadata": {
        "id": "b9TKyjnnUOJZ"
      }
    },
    {
      "cell_type": "code",
      "source": [
        "device = torch.device('cuda:0' if torch.cuda.is_available() else 'cpu')\n",
        "print(device)"
      ],
      "metadata": {
        "id": "VR400Py54ddr",
        "colab": {
          "base_uri": "https://localhost:8080/"
        },
        "outputId": "41033b30-06e0-4b50-8bb6-f861c2182748"
      },
      "execution_count": null,
      "outputs": [
        {
          "output_type": "stream",
          "name": "stdout",
          "text": [
            "cuda:0\n"
          ]
        }
      ]
    },
    {
      "cell_type": "code",
      "source": [
        "from torchvision.models import inception_v3\n",
        "from torchvision.transforms import transforms"
      ],
      "metadata": {
        "id": "Mo0YF_T0wjYA"
      },
      "execution_count": null,
      "outputs": []
    },
    {
      "cell_type": "markdown",
      "source": [
        "Pretrained model retrieval"
      ],
      "metadata": {
        "id": "g3w4XoEmUYY9"
      }
    },
    {
      "cell_type": "code",
      "source": [
        "model = inception_v3(pretrained=True).to(device)\n",
        "model.eval()"
      ],
      "metadata": {
        "id": "y_XWpbgD4ujx"
      },
      "execution_count": null,
      "outputs": []
    },
    {
      "cell_type": "markdown",
      "source": [
        "Image tranformation settings required for the model ([reference](https://pytorch.org/hub/pytorch_vision_inception_v3/))"
      ],
      "metadata": {
        "id": "OrQyE5WaUguu"
      }
    },
    {
      "cell_type": "code",
      "source": [
        "preprocess = transforms.Compose([\n",
        "    transforms.Resize(299),\n",
        "    transforms.CenterCrop(299),\n",
        "    transforms.ToTensor(),\n",
        "    transforms.Normalize(mean=[0.485, 0.456, 0.406], std=[0.229, 0.224, 0.225]),\n",
        "])"
      ],
      "metadata": {
        "id": "Gz7cCxRGJsUb"
      },
      "execution_count": null,
      "outputs": []
    },
    {
      "cell_type": "code",
      "source": [
        "from torchvision import datasets\n",
        "from torch.utils.data import DataLoader\n",
        "from PIL import Image\n",
        "import numpy as np"
      ],
      "metadata": {
        "id": "YNcUU3x313v5"
      },
      "execution_count": null,
      "outputs": []
    },
    {
      "cell_type": "markdown",
      "source": [
        "Setting up data loader"
      ],
      "metadata": {
        "id": "zRNJbUt0U1YT"
      }
    },
    {
      "cell_type": "code",
      "source": [
        "dataset = datasets.ImageFolder(data_dir, transform=preprocess)\n",
        "dataloader = DataLoader(dataset, batch_size=10, num_workers=4)"
      ],
      "metadata": {
        "id": "2-b86hZy2DWP"
      },
      "execution_count": null,
      "outputs": []
    },
    {
      "cell_type": "markdown",
      "source": [
        "Retrieval of class indexes in the model"
      ],
      "metadata": {
        "id": "l8gBi27fU6eF"
      }
    },
    {
      "cell_type": "code",
      "source": [
        "classIndexes = []\n",
        "for classLabel in classes:\n",
        "    classIndexes.append(Inception_V3_Weights.DEFAULT.meta[\"categories\"].index(classLabel.lower()))\n",
        "\n",
        "print(classIndexes)"
      ],
      "metadata": {
        "id": "bFKfwFVQ4d8C",
        "colab": {
          "base_uri": "https://localhost:8080/"
        },
        "outputId": "de6a138c-68e1-4367-a5e3-10ae6b557532"
      },
      "execution_count": null,
      "outputs": [
        {
          "output_type": "stream",
          "name": "stdout",
          "text": [
            "[470, 107, 963]\n"
          ]
        }
      ]
    },
    {
      "cell_type": "markdown",
      "source": [
        "Running model predictions on the dataset"
      ],
      "metadata": {
        "id": "hubIwCyeVPjt"
      }
    },
    {
      "cell_type": "code",
      "source": [
        "true_positives = [0] * len(classes)\n",
        "true_negatives = [0] * len(classes)\n",
        "false_positives = [0] * len(classes)\n",
        "false_negatives = [0] * len(classes)\n",
        "\n",
        "with torch.no_grad():\n",
        "  for images, labels in dataloader:\n",
        "    images = images.to(device)\n",
        "    labels = labels.to(device)\n",
        "    outputs = model(images)\n",
        "\n",
        "    threshold = 0.8\n",
        "    probabilitiesForBatch = torch.softmax(outputs, dim=1)\n",
        "\n",
        "    # Calculate TP, TN, FP, FN\n",
        "    for labelIndex, probabilitiesForClasses in enumerate(probabilitiesForBatch):\n",
        "      for j, index in enumerate(classIndexes):\n",
        "        if probabilitiesForClasses[index].item() >= threshold:\n",
        "            if classIndexes[labels[labelIndex].item()] == index:\n",
        "                true_positives[j] += 1\n",
        "            else:\n",
        "                false_positives[j] += 1\n",
        "        else:\n",
        "            if classIndexes[labels[labelIndex].item()] != index:\n",
        "                true_negatives[j] += 1\n",
        "            else:\n",
        "                false_negatives[j] += 1\n",
        "\n",
        "print(true_positives, true_negatives, false_positives, false_negatives)"
      ],
      "metadata": {
        "id": "ShKGnKJQ8QzD",
        "colab": {
          "base_uri": "https://localhost:8080/"
        },
        "outputId": "5497eccc-069b-45fd-8346-00d7d8e551ac"
      },
      "execution_count": null,
      "outputs": [
        {
          "output_type": "stream",
          "name": "stdout",
          "text": [
            "[288, 261, 211] [788, 909, 879] [0, 0, 0] [212, 118, 198]\n"
          ]
        }
      ]
    },
    {
      "cell_type": "markdown",
      "source": [],
      "metadata": {
        "id": "g1kLb-9vVYVf"
      }
    },
    {
      "cell_type": "code",
      "source": [
        "TP = 0\n",
        "TN = 0\n",
        "FP = 0\n",
        "FN = 0\n",
        "\n",
        "for i in range(len(classIndexes)):\n",
        "  TP += true_positives[i]\n",
        "  TN += true_negatives[i]\n",
        "  FP += false_positives[i]\n",
        "  FN += false_negatives[i]\n",
        "\n",
        "print(TP, TN, FP, FN)"
      ],
      "metadata": {
        "colab": {
          "base_uri": "https://localhost:8080/"
        },
        "id": "fjeV2mriB_39",
        "outputId": "40824f51-e6b7-4424-95e3-7ef63f153c08"
      },
      "execution_count": null,
      "outputs": [
        {
          "output_type": "stream",
          "name": "stdout",
          "text": [
            "760 2576 0 528\n"
          ]
        }
      ]
    },
    {
      "cell_type": "markdown",
      "source": [],
      "metadata": {
        "id": "5JM9ZGdhuo9R"
      }
    },
    {
      "cell_type": "markdown",
      "source": [
        "**Calculation of required metrics:**\n",
        "\n",
        "_Accuracy_ - number of examples correctly predicted / total number of examples\n",
        "\n",
        "$Accuracy = \\frac{TP + TN}{TP + FP + TN + FN}$\n",
        "\n",
        "_Recall_ - number of samples actually and predicted as `Positive` / total number of samples actually `Positive`\n",
        "\n",
        "$Recall = \\frac{TP}{TP + FN}$\n",
        "\n",
        "_Precision_ - number of samples actually and predicted as `Positive` / total number of samples predicted as `Positive`\n",
        "\n",
        "$Precision = \\frac{TP}{TP + FP}$\n",
        "\n",
        "_F1_ - Harmonic Mean of Precision and Recall\n",
        "\n",
        "$F1 = 2 \\cdot \\frac{Precision \\cdot Recall}{Precision + Recall}$\n"
      ],
      "metadata": {
        "id": "pkwPEiHhV7ao"
      }
    },
    {
      "cell_type": "code",
      "source": [
        "metrics = {}\n",
        "metrics['accuracy'] = (TP + TN) / (TP + FP + TN + FN)\n",
        "metrics['recall'] = TP / (TP + FN)\n",
        "metrics['precision'] = TP / (TP + FP)\n",
        "metrics['F1'] = 2 * (metrics['precision'] * metrics['recall']) / (metrics['precision'] + metrics['recall'])\n",
        "print(metrics)"
      ],
      "metadata": {
        "id": "dvrvRBG38zwG",
        "colab": {
          "base_uri": "https://localhost:8080/"
        },
        "outputId": "d0ab0b11-4fd0-46cd-c4f0-1703b40e7121"
      },
      "execution_count": null,
      "outputs": [
        {
          "output_type": "stream",
          "name": "stdout",
          "text": [
            "{'accuracy': 0.8633540372670807, 'recall': 0.5900621118012422, 'precision': 1.0, 'F1': 0.7421875}\n"
          ]
        }
      ]
    }
  ]
}